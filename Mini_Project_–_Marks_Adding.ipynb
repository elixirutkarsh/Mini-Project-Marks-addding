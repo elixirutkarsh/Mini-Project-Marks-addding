{
  "nbformat": 4,
  "nbformat_minor": 0,
  "metadata": {
    "colab": {
      "provenance": []
    },
    "kernelspec": {
      "name": "python3",
      "display_name": "Python 3"
    },
    "language_info": {
      "name": "python"
    }
  },
  "cells": [
    {
      "cell_type": "markdown",
      "source": [
        "Mini Project – Marks Adding\n",
        "-----------------------------------------------------------------------------------------------------------------------------\n",
        "• Input file contain Roll numbers and marks.\n",
        "• Create output file that add all the marks."
      ],
      "metadata": {
        "id": "lo_YQ3zWgvnA"
      }
    },
    {
      "cell_type": "code",
      "execution_count": 1,
      "metadata": {
        "colab": {
          "base_uri": "https://localhost:8080/",
          "height": 235
        },
        "id": "ERTg_RGrgug9",
        "outputId": "b560784e-4da4-4b15-8e55-2e105326adb9"
      },
      "outputs": [
        {
          "output_type": "error",
          "ename": "FileNotFoundError",
          "evalue": "ignored",
          "traceback": [
            "\u001b[0;31m---------------------------------------------------------------------------\u001b[0m",
            "\u001b[0;31mFileNotFoundError\u001b[0m                         Traceback (most recent call last)",
            "\u001b[0;32m<ipython-input-1-dab23acb6554>\u001b[0m in \u001b[0;36m<cell line: 9>\u001b[0;34m()\u001b[0m\n\u001b[1;32m      7\u001b[0m \u001b[0;34m\u001b[0m\u001b[0m\n\u001b[1;32m      8\u001b[0m \u001b[0;31m# Open the input file\u001b[0m\u001b[0;34m\u001b[0m\u001b[0;34m\u001b[0m\u001b[0m\n\u001b[0;32m----> 9\u001b[0;31m \u001b[0;32mwith\u001b[0m \u001b[0mopen\u001b[0m\u001b[0;34m(\u001b[0m\u001b[0minput_file\u001b[0m\u001b[0;34m,\u001b[0m \u001b[0;34m\"r\"\u001b[0m\u001b[0;34m)\u001b[0m \u001b[0;32mas\u001b[0m \u001b[0mfile\u001b[0m\u001b[0;34m:\u001b[0m\u001b[0;34m\u001b[0m\u001b[0;34m\u001b[0m\u001b[0m\n\u001b[0m\u001b[1;32m     10\u001b[0m     \u001b[0;31m# Read each line in the input file\u001b[0m\u001b[0;34m\u001b[0m\u001b[0;34m\u001b[0m\u001b[0m\n\u001b[1;32m     11\u001b[0m     \u001b[0;32mfor\u001b[0m \u001b[0mline\u001b[0m \u001b[0;32min\u001b[0m \u001b[0mfile\u001b[0m\u001b[0;34m:\u001b[0m\u001b[0;34m\u001b[0m\u001b[0;34m\u001b[0m\u001b[0m\n",
            "\u001b[0;31mFileNotFoundError\u001b[0m: [Errno 2] No such file or directory: 'input.txt'"
          ]
        }
      ],
      "source": [
        "# Define the input and output file paths\n",
        "input_file = \"input.txt\"\n",
        "output_file = \"output.txt\"\n",
        "\n",
        "# Initialize the total marks variable\n",
        "total_marks = 0\n",
        "\n",
        "# Open the input file\n",
        "with open(input_file, \"r\") as file:\n",
        "    # Read each line in the input file\n",
        "    for line in file:\n",
        "        # Split the line into roll number and marks\n",
        "        roll_number, marks = line.strip().split()\n",
        "\n",
        "        # Convert the marks to an integer and add it to the total marks\n",
        "        total_marks += int(marks)\n",
        "\n",
        "# Write the total marks to the output file\n",
        "with open(output_file, \"w\") as file:\n",
        "    file.write(str(total_marks))\n",
        "\n",
        "# Print the total marks to the console\n",
        "print(\"Total Marks:\", total_marks)\n"
      ]
    }
  ]
}